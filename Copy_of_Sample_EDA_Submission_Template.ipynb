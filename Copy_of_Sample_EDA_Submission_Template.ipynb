{
  "nbformat": 4,
  "nbformat_minor": 0,
  "metadata": {
    "colab": {
      "private_outputs": true,
      "provenance": [],
      "collapsed_sections": [
        "b0JNsNcRphqO",
        "rFu4xreNphqO",
        "gCFgpxoyphqP",
        "lssrdh5qphqQ",
        "1M8mcRywphqQ",
        "JMzcOPDDphqR",
        "PVzmfK_Ep1ck",
        "E6MkPsBcp1cl",
        "3MPXvC8up1cl",
        "gIfDvo9L0UH2"
      ],
      "include_colab_link": true
    },
    "kernelspec": {
      "name": "python3",
      "display_name": "Python 3"
    },
    "language_info": {
      "name": "python"
    },
    "gpuClass": "standard"
  },
  "cells": [
    {
      "cell_type": "markdown",
      "metadata": {
        "id": "view-in-github",
        "colab_type": "text"
      },
      "source": [
        "<a href=\"https://colab.research.google.com/github/sandip99999/Play-Store-App-Review-Analysis/blob/main/Copy_of_Sample_EDA_Submission_Template.ipynb\" target=\"_parent\"><img src=\"https://colab.research.google.com/assets/colab-badge.svg\" alt=\"Open In Colab\"/></a>"
      ]
    },
    {
      "cell_type": "markdown",
      "source": [
        "# **Project Name**    - \n",
        "\n",
        "Play Store App Review Analysis"
      ],
      "metadata": {
        "id": "vncDsAP0Gaoa"
      }
    },
    {
      "cell_type": "markdown",
      "source": [
        "##### **Project Type**    - EDA/Regression/Classification/Unsupervised\n",
        "##### **Contribution**    - Individual\n",
        "##### **Member Name -**Sandip Dey"
      ],
      "metadata": {
        "id": "beRrZCGUAJYm"
      }
    },
    {
      "cell_type": "markdown",
      "source": [
        "# **Project Summary -**"
      ],
      "metadata": {
        "id": "FJNUwmbgGyua"
      }
    },
    {
      "cell_type": "markdown",
      "source": [
        "Data science can be summarized into five steps: capture, maintain process, analyze, and communicate. The analysis of Google Play Store application aided to build most reliable and more interactive applications. This would be very useful for app developers to build an application focused on certain discussed category in this analysis. This analysis will help in building the application with precise and accurate objectives.\n",
        "\n",
        "In the initial phase, we focused more on the problem statements and data cleaning, in order to ensure that we give them the best results out of our analysis. Our major challenge was data cleaning, In Data Cleaning, we have performed few steps to ensure the data quality such as removing NAN values or filled it with mean or mode value. During the Data Cleaning step we found that one of the row has a wrong value in each column so, we had to drop it.\n",
        "\n",
        "The merged data frame of both play store and user reviews, had only 865 common apps. This is just 10% of the cleaned data, we could have given more valuable analysis if we had at least 70% - 80% of the data available in the merged data frames.\n",
        "\n",
        "User Reviews had 42% of NaN values, which could have been used for developing an understanding of the category wise sentiments, which would help us to fill 13.60% NaN values of the Reviews column.\n",
        "\n",
        "With the cleaned data, we have performed Exploratory Data Analysis to understand our dataset like number of installations for each category We explore the correlation between the size of the app and the version of Android on the number of installs and so on. \n",
        "\n",
        "Our motive in whole project was to analyze the data and find out main components that affect users’ decision to download app. After completion of analysis I concluded that user prefer more of free apps. Most of the apps present in play store are more or less of same size so size doesn’t affect their decision much.\n",
        "\n",
        "It was found that Most of the apps that are  present on the google play store have rating  in between 4 and 5. Also it was observed that Maximum number of applications present in the dataset are of small size.\n",
        "\n",
        "We found most popular category of apps on two basis - Number of Installs and Number of reviews. Personalization wins in former criteria whereas Sports wins in later criteria.\n",
        "\n",
        "In the problem statement we are given with 2 datasets i.e. play store and User review data set in the user review dataset it was observed that User Reviews had 42% of NaN values, which could have been used for developing an understanding of the category wise sentiments, which would help us to fill 13.60% NaN values of the Reviews column.\n",
        "\n",
        "Most of the reviews are of Positive Sentiment, while Negative and Neutral have low number of reviews. Sentiment Polarity / Sentiment Subjectivity\n",
        "Collection of reviews shows a wide range of subjectivity and most of the reviews fall in [-0.50,0.75] polarity scale implying that the extremely negative or positive sentiments are significantly low. Most of the reviews show a mid-range of negative and positive sentiments.\n",
        "\n",
        "Sentiment subjectivity is not always proportional to sentiment polarity but in maximum number of case, shows a proportional behavior, when variance is too high or low.\n",
        "\n",
        "Sentiment Polarity is not highly correlated with Sentiment Subjectivity.\n",
        "The dataset contains immense possibilities to improve business values and have a positive impact. It is not limited to the problem taken into consideration for this project. Many other interesting possibilities can be explored using this dataset.\n",
        "\n",
        "From the results and process we have implemented, we can conclude that we have achieved this project objective which is analyzing the Google Play Store apps and determine trends of the Google Play Store and both of our research questions.\n"
      ],
      "metadata": {
        "id": "F6v_1wHtG2nS"
      }
    },
    {
      "cell_type": "markdown",
      "source": [
        "# **GitHub Link -**"
      ],
      "metadata": {
        "id": "w6K7xa23Elo4"
      }
    },
    {
      "cell_type": "markdown",
      "source": [
        "https://github.com/sandip99999/Play-Store-App-Review-Analysis"
      ],
      "metadata": {
        "id": "h1o69JH3Eqqn"
      }
    },
    {
      "cell_type": "markdown",
      "source": [
        "# **Problem Statement**\n"
      ],
      "metadata": {
        "id": "yQaldy8SH6Dl"
      }
    },
    {
      "cell_type": "markdown",
      "source": [
        "1) Top categories on Google Play Store.\n",
        "\n",
        "2) Which category apps have the greatest number of installs?\n",
        "\n",
        "3) Which app category are paid or free with percentage?\n",
        "\n",
        "4) Let’s have a look at the distribution of the ratings of the data frame.\n",
        "\n",
        "5) Which category of Apps from the ‘Content Rating’ column is found more on the play store?\n",
        "\n",
        "6) Let’s have a look at the distribution of the Size of the data frame.\n",
        "\n",
        "7) What are the top 10 installed apps in any category?\n",
        "\n",
        "8) Which are the Apps having the highest numbers of reviews?\n",
        "\n",
        "9) How does size impact on the number of installs of any application?\n",
        "\n",
        "10) Which are the Genres that are getting installed the most in top 20 Genres?\n",
        "\n",
        "11) Most Android Ver supported apps in play store.\n",
        "\n",
        "12) App update details \"By Year\".\n",
        "\n",
        "13) Histogram of subjectivity.\n",
        "\n",
        "14) Is sentiment subjectivity proportional to sentiment polarity?\n",
        "\n",
        "15) Sentiment_Polarity relation with paid and Free App.\n",
        "\n",
        "16) Find the highest and the lowest rated Genres.\n",
        "\n",
        "17) Categories Relation with the Sentiment_Subjectivity\n"
      ],
      "metadata": {
        "id": "DpeJGUA3kjGy"
      }
    },
    {
      "cell_type": "markdown",
      "source": [
        "#### **Define Your Business Objective?**"
      ],
      "metadata": {
        "id": "PH-0ReGfmX4f"
      }
    },
    {
      "cell_type": "markdown",
      "source": [
        "The Business Objective of this project is:\n",
        "\n",
        "1) Using the data to analyze consumer trends and determine which type of apps are the most popular and profitable.\n",
        "\n",
        "2) Classifying applications based on their categories.\n",
        "\n",
        "3) Presenting the growth of applications from 2016 to 2018.\n",
        "\n",
        "4) Comparing different categories of applications based on the Android version.\n",
        "\n",
        "5) Comparing the rates in different kinds of applications.\n",
        "\n",
        "6) Assessing supported Android version with numbers of reviews based on different categories."
      ],
      "metadata": {
        "id": "PhDvGCAqmjP1"
      }
    },
    {
      "cell_type": "markdown",
      "source": [
        "# **General Guidelines** : -  "
      ],
      "metadata": {
        "id": "mDgbUHAGgjLW"
      }
    },
    {
      "cell_type": "markdown",
      "source": [
        "1.   Well-structured, formatted, and commented code is required. \n",
        "2.   Exception Handling, Production Grade Code & Deployment Ready Code will be a plus. Those students will be awarded some additional credits. \n",
        "     \n",
        "     The additional credits will have advantages over other students during Star Student selection.\n",
        "       \n",
        "             [ Note: - Deployment Ready Code is defined as, the whole .ipynb notebook should be executable in one go\n",
        "                       without a single error logged. ]\n",
        "\n",
        "3.   Each and every logic should have proper comments.\n",
        "4. You may add as many number of charts you want. Make Sure for each and every chart the following format should be answered.\n",
        "        \n",
        "\n",
        "```\n",
        "# Chart visualization code\n",
        "```\n",
        "            \n",
        "\n",
        "*   Why did you pick the specific chart?\n",
        "*   What is/are the insight(s) found from the chart?\n",
        "* Will the gained insights help creating a positive business impact? \n",
        "Are there any insights that lead to negative growth? Justify with specific reason.\n",
        "\n",
        "5. You have to create at least 20 logical & meaningful charts having important insights.\n",
        "\n",
        "\n",
        "[ Hints : - Do the Vizualization in  a structured way while following \"UBM\" Rule. \n",
        "\n",
        "U - Univariate Analysis,\n",
        "\n",
        "B - Bivariate Analysis (Numerical - Categorical, Numerical - Numerical, Categorical - Categorical)\n",
        "\n",
        "M - Multivariate Analysis\n",
        " ]\n",
        "\n",
        "\n",
        "\n"
      ],
      "metadata": {
        "id": "ZrxVaUj-hHfC"
      }
    },
    {
      "cell_type": "markdown",
      "source": [
        "# ***Let's Begin !***"
      ],
      "metadata": {
        "id": "O_i_v8NEhb9l"
      }
    },
    {
      "cell_type": "markdown",
      "source": [
        "## ***1. Know Your Data***"
      ],
      "metadata": {
        "id": "HhfV-JJviCcP"
      }
    },
    {
      "cell_type": "markdown",
      "source": [
        "### Import Libraries"
      ],
      "metadata": {
        "id": "Y3lxredqlCYt"
      }
    },
    {
      "cell_type": "code",
      "source": [
        "# Import Libraries\n",
        "import pandas as pd    # for data manipulation\n",
        "import numpy as np     # for mathemathical operations and linear alogebra"
      ],
      "metadata": {
        "id": "M8Vqi-pPk-HR"
      },
      "execution_count": null,
      "outputs": []
    },
    {
      "cell_type": "markdown",
      "source": [
        "## Mounting google Drive\n",
        "\n",
        "\n",
        "\n",
        "\n",
        "\n",
        "\n"
      ],
      "metadata": {
        "id": "Bxsy3IG2tfTU"
      }
    },
    {
      "cell_type": "code",
      "source": [
        "# Load Dataset\n",
        "from google.colab import drive\n",
        "drive.mount('/content/drive')"
      ],
      "metadata": {
        "id": "4CkvbW_SlZ_R"
      },
      "execution_count": null,
      "outputs": []
    },
    {
      "cell_type": "markdown",
      "source": [
        "### Dataset Loading"
      ],
      "metadata": {
        "id": "3RnN4peoiCZX"
      }
    },
    {
      "cell_type": "code",
      "source": [
        "path=\"/content/drive/MyDrive/Colab Notebooks/Play Store App Review Analysis/Play Store Data.csv\"\n",
        "df=pd.read_csv(r\"/content/drive/MyDrive/Colab Notebooks/Play Store App Review Analysis/Play Store Data.csv\")\n",
        "user_reviews_app_df=pd.read_csv(r\"/content/drive/MyDrive/Colab Notebooks/Play Store App Review Analysis/User Reviews.csv\")"
      ],
      "metadata": {
        "id": "SE8qZA_osC-o"
      },
      "execution_count": null,
      "outputs": []
    },
    {
      "cell_type": "markdown",
      "source": [
        "### Dataset First View"
      ],
      "metadata": {
        "id": "x71ZqKXriCWQ"
      }
    },
    {
      "cell_type": "code",
      "source": [
        "# Dataset First Look\n",
        "df.head(5)  "
      ],
      "metadata": {
        "id": "LWNFOSvLl09H"
      },
      "execution_count": null,
      "outputs": []
    },
    {
      "cell_type": "code",
      "source": [
        "df.tail(5)"
      ],
      "metadata": {
        "id": "XW-oikR3ul3a"
      },
      "execution_count": null,
      "outputs": []
    },
    {
      "cell_type": "code",
      "source": [
        "user_reviews_app_df.head(5)"
      ],
      "metadata": {
        "id": "kOpm_TXw0LdS"
      },
      "execution_count": null,
      "outputs": []
    },
    {
      "cell_type": "markdown",
      "source": [
        "### Dataset Rows & Columns count"
      ],
      "metadata": {
        "id": "7hBIi_osiCS2"
      }
    },
    {
      "cell_type": "code",
      "source": [
        "df.shape"
      ],
      "metadata": {
        "id": "mnOV0yMcu0dJ"
      },
      "execution_count": null,
      "outputs": []
    },
    {
      "cell_type": "code",
      "source": [
        "# Dataset Rows & Columns count\n",
        "df.columns"
      ],
      "metadata": {
        "id": "Kllu7SJgmLij"
      },
      "execution_count": null,
      "outputs": []
    },
    {
      "cell_type": "markdown",
      "source": [
        "### Dataset Information"
      ],
      "metadata": {
        "id": "JlHwYmJAmNHm"
      }
    },
    {
      "cell_type": "code",
      "source": [
        "# Dataset Info\n",
        "df.info()"
      ],
      "metadata": {
        "id": "e9hRXRi6meOf"
      },
      "execution_count": null,
      "outputs": []
    },
    {
      "cell_type": "markdown",
      "source": [
        "#### Duplicate Values"
      ],
      "metadata": {
        "id": "35m5QtbWiB9F"
      }
    },
    {
      "cell_type": "code",
      "source": [
        "#first copy the dataset\n",
        "df1=df.copy()"
      ],
      "metadata": {
        "id": "i2Pshl7du0vh"
      },
      "execution_count": null,
      "outputs": []
    },
    {
      "cell_type": "code",
      "source": [
        "# Dataset Duplicate Value Count\n",
        "df1.duplicated().sum()"
      ],
      "metadata": {
        "id": "1sLdpKYkmox0"
      },
      "execution_count": null,
      "outputs": []
    },
    {
      "cell_type": "code",
      "source": [
        "#drop all the duplicate rows in the dataset\n",
        "df1.drop_duplicates(keep=\"last\",inplace=True)"
      ],
      "metadata": {
        "id": "ycQQeEyQvNyr"
      },
      "execution_count": null,
      "outputs": []
    },
    {
      "cell_type": "markdown",
      "source": [
        "#### Missing Values/Null Values"
      ],
      "metadata": {
        "id": "PoPl-ycgm1ru"
      }
    },
    {
      "cell_type": "code",
      "source": [
        "# value counts each category of this database\n",
        "df1.Category.value_counts().sort_values(ascending=False)"
      ],
      "metadata": {
        "id": "gs_uQktpvtxY"
      },
      "execution_count": null,
      "outputs": []
    },
    {
      "cell_type": "code",
      "source": [
        "#find the missing row index\n",
        "new=df1[\"Category\"].isin([\"1.9\"])"
      ],
      "metadata": {
        "id": "DqP6vIV6vt9U"
      },
      "execution_count": null,
      "outputs": []
    },
    {
      "cell_type": "code",
      "source": [
        "df1[new]"
      ],
      "metadata": {
        "id": "AtX7zokAv14R"
      },
      "execution_count": null,
      "outputs": []
    },
    {
      "cell_type": "markdown",
      "source": [
        "We can clearly see that row 10472 has missing data for the Categorycolumn and all the prevailing column values are being replaced with its previous column. A better idea will be to drop this row from our data frame."
      ],
      "metadata": {
        "id": "YC_PjqdVv9eP"
      }
    },
    {
      "cell_type": "code",
      "source": [
        "#drop the missing row\n",
        "df1.drop(index=10472,inplace=True)"
      ],
      "metadata": {
        "id": "GuJGokDEv17e"
      },
      "execution_count": null,
      "outputs": []
    },
    {
      "cell_type": "code",
      "source": [
        "# Missing Values/Null Values Count\n",
        "df1.isna().sum()"
      ],
      "metadata": {
        "id": "GgHWkxvamxVg"
      },
      "execution_count": null,
      "outputs": []
    },
    {
      "cell_type": "code",
      "source": [
        "#Now, we can fix the Rating column which contains a total of 1474 of missing values.\n",
        "#Replacing the missing values with the mean value of that entire column.\n",
        "\n",
        "df1[\"Rating\"].fillna(df1[\"Rating\"].mean(),inplace=True)"
      ],
      "metadata": {
        "id": "7BKyk03dwn23"
      },
      "execution_count": null,
      "outputs": []
    },
    {
      "cell_type": "code",
      "source": [
        "#check the unique values in the \"Type\" column\n",
        "df1[\"Type\"].unique()"
      ],
      "metadata": {
        "id": "podcnlgxws2H"
      },
      "execution_count": null,
      "outputs": []
    },
    {
      "cell_type": "code",
      "source": [
        "#Replacing the missing values with the Mode value of that entire columns.\n",
        "df1[\"Type\"].fillna(df1[\"Type\"].mode()[0],inplace=True)\n",
        "df1[\"Current Ver\"].fillna(df1[\"Current Ver\"].mode()[0],inplace=True)\n",
        "df1[\"Android Ver\"].fillna(df1[\"Current Ver\"].mode()[0],inplace=True)"
      ],
      "metadata": {
        "id": "JqgYvyyWws4p"
      },
      "execution_count": null,
      "outputs": []
    },
    {
      "cell_type": "code",
      "source": [
        "#again check the null values\n",
        "df1.isnull().sum()"
      ],
      "metadata": {
        "id": "wp7ITbmsws8J"
      },
      "execution_count": null,
      "outputs": []
    },
    {
      "cell_type": "code",
      "source": [
        "#check null values\n",
        "user_reviews_app_df.isnull().sum()"
      ],
      "metadata": {
        "id": "FmV-Uhmv0di4"
      },
      "execution_count": null,
      "outputs": []
    },
    {
      "cell_type": "code",
      "source": [
        "#droped the rowes having all null values\n",
        "user_reviews_app_df=user_reviews_app_df.dropna(subset=[\"Translated_Review\"],how=\"all\")"
      ],
      "metadata": {
        "id": "kbU3vVSU0doW"
      },
      "execution_count": null,
      "outputs": []
    },
    {
      "cell_type": "code",
      "source": [
        "#check shape\n",
        "user_reviews_app_df.shape"
      ],
      "metadata": {
        "id": "h23GFEeX0drR"
      },
      "execution_count": null,
      "outputs": []
    },
    {
      "cell_type": "markdown",
      "source": [
        "### What did you know about your dataset?"
      ],
      "metadata": {
        "id": "H0kj-8xxnORC"
      }
    },
    {
      "cell_type": "markdown",
      "source": [
        "Android is the most popular operating system in the world, with over 3 billion active users spanning over 193 country.\n",
        "\n",
        "Google Play Store was launched on March 6, 2012, bringing together Android Market marking a shift in Google digital distribution strategy.\n",
        "\n",
        "There are more than 4 million apps found on Google Play Store.\n",
        "\n",
        "Android is the dominate mobile operating system today more than 85% of all mobile devices running Google OS. The Google Play Store is the largest and most popular Android app store.\n"
      ],
      "metadata": {
        "id": "gfoNAAC-nUe_"
      }
    },
    {
      "cell_type": "markdown",
      "source": [
        "## ***2. Understanding Your Variables***"
      ],
      "metadata": {
        "id": "nA9Y7ga8ng1Z"
      }
    },
    {
      "cell_type": "code",
      "source": [
        "# Dataset Columns\n",
        "df1.columns"
      ],
      "metadata": {
        "id": "j7xfkqrt5Ag5"
      },
      "execution_count": null,
      "outputs": []
    },
    {
      "cell_type": "code",
      "source": [
        "user_reviews_app_df.columns"
      ],
      "metadata": {
        "id": "NGrBfjcM3q8m"
      },
      "execution_count": null,
      "outputs": []
    },
    {
      "cell_type": "markdown",
      "source": [
        "### Variables Description "
      ],
      "metadata": {
        "id": "PBTbrJXOngz2"
      }
    },
    {
      "cell_type": "markdown",
      "source": [
        "Attributes in Google Play store Data:-\n",
        "\n",
        "1) App: The name of the app\n",
        "\n",
        "2) Category: Category of the app belongs to.\n",
        "\n",
        "3) Rating: Rating has received from the users, range from 0.0 to 5.0\n",
        "\n",
        "4) Reviews: The number of reviews that the app received.\n",
        "\n",
        "5) Size: The size of the app, The suffix \"M\" means Megabytes and the suffix \"k\" means Kilobytes\n",
        "\n",
        "6) Installs: Describes the number of install of the app\n",
        "\n",
        "7) Type: A label that indicates whether the app is free or paid\n",
        "\n",
        "8) Price: The price value for the paid apps.\n",
        "\n",
        "9) Content Rating: It indicates the age group for user.\n",
        "\n",
        "10) Genres: List of genres to which the app is belongs.\n",
        "\n",
        "11) Last Update: The date at which the app was last updated\n",
        "\n",
        "12) Current Ver: Version of the app as specified by the developers.\n",
        "\n",
        "13) Android Ver: The Android OS the app is compatible with\n",
        "\n",
        "\n",
        "\n",
        "Attributes in User reviews:-\n",
        "\n",
        "1) App: The name of the app\n",
        "\n",
        "2) Translated Reviews:  The review text in English\n",
        "\n",
        "3) Sentiment: Sentiment basically determines the attitude or the emotion of the writer, i.e., whether it is positive or negative or neutral.\n",
        "\n",
        "4) Sentiment Polarity: Sentiment Polarity is float which lies in the range of (-1,1) where 1 means positive statement and -1 means a negative statement. \n",
        "\n",
        "5) Sentiment Subjectivity: Sentiment Subjectivity generally refer to personal opinion, emotion or judgment, which lies in the range of (0,1).\n",
        "Answer Here"
      ],
      "metadata": {
        "id": "aJV4KIxSnxay"
      }
    },
    {
      "cell_type": "markdown",
      "source": [
        "### Check Unique Values for each variable."
      ],
      "metadata": {
        "id": "u3PMJOP6ngxN"
      }
    },
    {
      "cell_type": "code",
      "source": [
        "df.head(1)  "
      ],
      "metadata": {
        "id": "vwe2Y939ys2D"
      },
      "execution_count": null,
      "outputs": []
    },
    {
      "cell_type": "code",
      "source": [
        "# Check Unique Values for each variable.\n",
        "df1[\"App\"].unique()"
      ],
      "metadata": {
        "id": "zms12Yq5n-jE"
      },
      "execution_count": null,
      "outputs": []
    },
    {
      "cell_type": "code",
      "source": [
        "df1[\"Category\"].unique()"
      ],
      "metadata": {
        "id": "SPOc396Gy-hC"
      },
      "execution_count": null,
      "outputs": []
    },
    {
      "cell_type": "code",
      "source": [
        "df1[\"Rating\"].unique()"
      ],
      "metadata": {
        "id": "_26XKlAVy-tY"
      },
      "execution_count": null,
      "outputs": []
    },
    {
      "cell_type": "code",
      "source": [
        "df1[\"Reviews\"].unique()"
      ],
      "metadata": {
        "id": "XY6rzGlwy-wX"
      },
      "execution_count": null,
      "outputs": []
    },
    {
      "cell_type": "code",
      "source": [
        "df1[\"Size\"].unique()"
      ],
      "metadata": {
        "id": "Sg8etkR8y-y9"
      },
      "execution_count": null,
      "outputs": []
    },
    {
      "cell_type": "code",
      "source": [
        "df1[\"Installs\"].unique()"
      ],
      "metadata": {
        "id": "oYu5g0Fvy-1p"
      },
      "execution_count": null,
      "outputs": []
    },
    {
      "cell_type": "code",
      "source": [
        "df1[\"Type\"].unique()"
      ],
      "metadata": {
        "id": "PxD0TKycy-4H"
      },
      "execution_count": null,
      "outputs": []
    },
    {
      "cell_type": "code",
      "source": [
        "df1[\"Price\"].unique()"
      ],
      "metadata": {
        "id": "ESHqnRpxy-7O"
      },
      "execution_count": null,
      "outputs": []
    },
    {
      "cell_type": "code",
      "source": [
        "df1[\"Content Rating\"].unique()"
      ],
      "metadata": {
        "id": "sGIbW6CSy--i"
      },
      "execution_count": null,
      "outputs": []
    },
    {
      "cell_type": "code",
      "source": [
        "df1[\"Genres\"].unique()"
      ],
      "metadata": {
        "id": "rFx7ZLipy_BS"
      },
      "execution_count": null,
      "outputs": []
    },
    {
      "cell_type": "code",
      "source": [
        "df1[\"Last Updated\"].unique()"
      ],
      "metadata": {
        "id": "-jv5KQ8by_EZ"
      },
      "execution_count": null,
      "outputs": []
    },
    {
      "cell_type": "code",
      "source": [
        "df1[\"Current Ver\"].unique()"
      ],
      "metadata": {
        "id": "wZw8xPNvy_Go"
      },
      "execution_count": null,
      "outputs": []
    },
    {
      "cell_type": "code",
      "source": [
        "df1[\"Android Ver\"].unique()"
      ],
      "metadata": {
        "id": "jxYna1N6y_KP"
      },
      "execution_count": null,
      "outputs": []
    },
    {
      "cell_type": "code",
      "source": [
        "user_reviews_app_df[\"Sentiment\"].unique()"
      ],
      "metadata": {
        "id": "XC47aQ8y040I"
      },
      "execution_count": null,
      "outputs": []
    },
    {
      "cell_type": "code",
      "source": [
        "user_reviews_app_df[\"Sentiment_Polarity\"].unique()"
      ],
      "metadata": {
        "id": "gM8ErxYV045k"
      },
      "execution_count": null,
      "outputs": []
    },
    {
      "cell_type": "code",
      "source": [
        "user_reviews_app_df[\"Sentiment_Subjectivity\"].unique()"
      ],
      "metadata": {
        "id": "6IHsr3xb1VPv"
      },
      "execution_count": null,
      "outputs": []
    },
    {
      "cell_type": "markdown",
      "source": [
        "## 3. ***Data Wrangling***"
      ],
      "metadata": {
        "id": "dauF4eBmngu3"
      }
    },
    {
      "cell_type": "markdown",
      "source": [
        "### Data Wrangling Code"
      ],
      "metadata": {
        "id": "bKJF3rekwFvQ"
      }
    },
    {
      "cell_type": "code",
      "source": [
        "# Write your code to make your dataset analysis ready."
      ],
      "metadata": {
        "id": "wk-9a2fpoLcV"
      },
      "execution_count": null,
      "outputs": []
    },
    {
      "cell_type": "code",
      "source": [
        "#convert \"Last Updated\" column to datetime format\n",
        "df1[\"Last Updated\"]=pd.to_datetime(df1[\"Last Updated\"])"
      ],
      "metadata": {
        "id": "2PmdqtC12N49"
      },
      "execution_count": null,
      "outputs": []
    },
    {
      "cell_type": "code",
      "source": [
        "df1.head(2)"
      ],
      "metadata": {
        "id": "6ev-ZbWq2N69"
      },
      "execution_count": null,
      "outputs": []
    },
    {
      "cell_type": "markdown",
      "source": [
        "Columns like Reviews, Size, Installs, & priceshould have an int or float datatype, But here we can see of objecttype, So let’s convert them to their respective correct type."
      ],
      "metadata": {
        "id": "8lAayWIF2i25"
      }
    },
    {
      "cell_type": "code",
      "source": [
        "# Removing unnecessary characters from Installs columns\n",
        "df1[\"Installs\"]=df1[\"Installs\"].str.replace(\"+\",\" \")\n",
        "df1[\"Installs\"]=df1[\"Installs\"].str.replace(\",\",'')"
      ],
      "metadata": {
        "id": "GUQ8eial2N9O"
      },
      "execution_count": null,
      "outputs": []
    },
    {
      "cell_type": "code",
      "source": [
        "#Starting with the column \"Installs\",converting its type to int.\n",
        "df1[\"Installs\"]=pd.to_numeric(df1[\"Installs\"])"
      ],
      "metadata": {
        "id": "gHkrt8C_2N_l"
      },
      "execution_count": null,
      "outputs": []
    },
    {
      "cell_type": "code",
      "source": [
        "df1.info()"
      ],
      "metadata": {
        "id": "RmJAqeO_2OCb"
      },
      "execution_count": null,
      "outputs": []
    },
    {
      "cell_type": "code",
      "source": [
        "#Converting the \"Reviews\" Column from object to integer.\n",
        "df1[\"Reviews\"]=df1[\"Reviews\"].astype(int)"
      ],
      "metadata": {
        "id": "QF6xoE5n2OFn"
      },
      "execution_count": null,
      "outputs": []
    },
    {
      "cell_type": "markdown",
      "source": [
        "Converting the Size Column from object to integer, but this column contains some of the special characters like \",\",\"+\",\"M\",\"K\" & also it has a some of the value as \"Varies with device\" . We need to remove all of these and then convert it to int or float."
      ],
      "metadata": {
        "id": "v0id3oY028GE"
      }
    },
    {
      "cell_type": "code",
      "source": [
        "#removing unnecessary characters from size columns\n",
        "df1[\"Size\"]=df1[\"Size\"].str.replace(\"M\",\"e+6\").str.replace(\"k\",'e+3')"
      ],
      "metadata": {
        "id": "4EaVcJGx2OLP"
      },
      "execution_count": null,
      "outputs": []
    },
    {
      "cell_type": "code",
      "source": [
        "df1[\"Size\"]=df1[\"Size\"].replace(\"Varies with device\",np.NaN)"
      ],
      "metadata": {
        "id": "iuWm75r42ONo"
      },
      "execution_count": null,
      "outputs": []
    },
    {
      "cell_type": "code",
      "source": [
        "#finnaly converting the Size Column from object to integer\n",
        "df1[\"Size\"]=pd.to_numeric(df1[\"Size\"])"
      ],
      "metadata": {
        "id": "Lc847jxi2OQ7"
      },
      "execution_count": null,
      "outputs": []
    },
    {
      "cell_type": "code",
      "source": [
        "df1.head(2)"
      ],
      "metadata": {
        "id": "GkWvYOln3FDW"
      },
      "execution_count": null,
      "outputs": []
    },
    {
      "cell_type": "code",
      "source": [
        "df1[\"Price\"].value_counts()"
      ],
      "metadata": {
        "id": "MVKPIKAh3FGq"
      },
      "execution_count": null,
      "outputs": []
    },
    {
      "cell_type": "code",
      "source": [
        "#The values contain a special symbol $ which can be removed and then converted to the numeric type.\n",
        "df1[\"Price\"]=df1[\"Price\"].str.replace(\"$\",\"\").astype(float)"
      ],
      "metadata": {
        "id": "YHUhzq0g3Q5p"
      },
      "execution_count": null,
      "outputs": []
    },
    {
      "cell_type": "code",
      "source": [
        "#dataset info\n",
        "df1.info()"
      ],
      "metadata": {
        "id": "hzaMOl0k3RGr"
      },
      "execution_count": null,
      "outputs": []
    },
    {
      "cell_type": "code",
      "source": [
        "# Dataset Describe\n",
        "df1.describe()"
      ],
      "metadata": {
        "id": "0ULrAWin3RQR"
      },
      "execution_count": null,
      "outputs": []
    },
    {
      "cell_type": "code",
      "source": [
        "#check the final shape of the dataset\n",
        "df1.shape"
      ],
      "metadata": {
        "id": "ftLchJSS3Rb4"
      },
      "execution_count": null,
      "outputs": []
    },
    {
      "cell_type": "markdown",
      "source": [
        "Now, we are finally done. In this section Data Preparation and Cleaning. We can see that the original dataset contained 10841 Rows and 13 Columns. It contained \"App\", \"Category\", \"Rating\", \"Reviews\", \"Size\", \"Installs\", \"Type\", \"Price\", \"Content Rating\", \"Genres\", \"Last Updated\", \"Curernt Ver\", and \"Android VerColumns\". But after cleansing the dataset and dropping the unwanted rows and columns having Null Values and Garbage data from the data frame, we are left with 10357 Rows and 13 Columns."
      ],
      "metadata": {
        "id": "Vr8grhMc374A"
      }
    },
    {
      "cell_type": "code",
      "source": [
        "#take a copy of clean dataset\n",
        "clean_df=df1.copy()"
      ],
      "metadata": {
        "id": "WHoZHokF3Rj0"
      },
      "execution_count": null,
      "outputs": []
    },
    {
      "cell_type": "code",
      "source": [
        "#merging dataframes on app\n",
        "merge_df=clean_df.merge(user_reviews_app_df,on=\"App\")"
      ],
      "metadata": {
        "id": "HRiUpbNJ4BSC"
      },
      "execution_count": null,
      "outputs": []
    },
    {
      "cell_type": "code",
      "source": [
        "#print\n",
        "merge_df.head(2)"
      ],
      "metadata": {
        "id": "0QV7pJiT4BXW"
      },
      "execution_count": null,
      "outputs": []
    },
    {
      "cell_type": "code",
      "source": [
        "merge_df.tail(2)"
      ],
      "metadata": {
        "id": "0sCFMyts4Bjf"
      },
      "execution_count": null,
      "outputs": []
    },
    {
      "cell_type": "markdown",
      "source": [
        "### What all manipulations have you done and insights you found?"
      ],
      "metadata": {
        "id": "MSa1f5Uengrz"
      }
    },
    {
      "cell_type": "markdown",
      "source": [
        "1. At first convert \"Last Updated\" column to datetime format.\n",
        "2. Removed unnecessary characters like \"+\" and \",\" from Installs columns.\n",
        "3. Change Installs dtype object to int.\n",
        "4. Converting the \"Reviews\" Column from object to integer.\n",
        "5. Replaced unnecessary characters like \"M\" and \"k\" with \"e+6\" and \"e+3\" from size columns and also replace \"Veries with device\" with 0\n",
        "6. Then converting the Size column to integer\n",
        "7. In the Price column the values contain a special symbol \"$\" which can be removed and then converted to the numeric type.\n",
        "\n"
      ],
      "metadata": {
        "id": "LbyXE7I1olp8"
      }
    },
    {
      "cell_type": "markdown",
      "source": [
        "## ***4. Data Vizualization, Storytelling & Experimenting with charts : Understand the relationships between variables***"
      ],
      "metadata": {
        "id": "GF8Ens_Soomf"
      }
    },
    {
      "cell_type": "markdown",
      "source": [
        "# Importing matplotlib.pyplot and seaborn"
      ],
      "metadata": {
        "id": "qvsgVN5Q6YQ3"
      }
    },
    {
      "cell_type": "code",
      "source": [
        "from matplotlib import pyplot as plt   # for data visualization\n",
        "import seaborn as sns                  # for data visualization\n",
        "%matplotlib inline "
      ],
      "metadata": {
        "id": "rGBtXbGr6XRL"
      },
      "execution_count": null,
      "outputs": []
    },
    {
      "cell_type": "markdown",
      "source": [
        "#### Chart-1 Top categories on Google Playstore"
      ],
      "metadata": {
        "id": "0wOQAZs5pc--"
      }
    },
    {
      "cell_type": "code",
      "source": [
        "# Chart - 1 visualization code\n",
        "category_df=clean_df.Category.value_counts().sort_values(ascending=False).reset_index()"
      ],
      "metadata": {
        "id": "7v_ESjsspbW7"
      },
      "execution_count": null,
      "outputs": []
    },
    {
      "cell_type": "code",
      "source": [
        "category_df"
      ],
      "metadata": {
        "id": "pljuXZ_w7LV2"
      },
      "execution_count": null,
      "outputs": []
    },
    {
      "cell_type": "code",
      "source": [
        "#creating the barplot\n",
        "x1=category_df[\"Category\"]\n",
        "y1=category_df[\"index\"]\n",
        "\n",
        "plt.figure(figsize=(18,13))\n",
        "graph1 = sns.barplot(x = x1, y = y1, palette= \"twilight_shifted_r\")\n",
        "graph1.set_title(\"Top categories on Google Playstore\", fontsize = 28);\n",
        "plt.xlabel(\"Count\",fontsize=18)\n",
        "plt.ylabel(\"Category\",fontsize=18)\n",
        "plt.show()"
      ],
      "metadata": {
        "id": "pevoSKB37LhT"
      },
      "execution_count": null,
      "outputs": []
    },
    {
      "cell_type": "markdown",
      "source": [
        "##### 1. Why did you pick the specific chart?"
      ],
      "metadata": {
        "id": "K5QZ13OEpz2H"
      }
    },
    {
      "cell_type": "markdown",
      "source": [
        "For show the top Categories of App in the google play store"
      ],
      "metadata": {
        "id": "XESiWehPqBRc"
      }
    },
    {
      "cell_type": "markdown",
      "source": [
        "##### 2. What is/are the insight(s) found from the chart?"
      ],
      "metadata": {
        "id": "lQ7QKXXCp7Bj"
      }
    },
    {
      "cell_type": "markdown",
      "source": [
        "So there are total 33 categories in the dataset From the above plot and we can come to a conclusion that in playstore most of the apps are under Family & Game category and least are of Beauty & Comics Category."
      ],
      "metadata": {
        "id": "C_j1G7yiqdRP"
      }
    },
    {
      "cell_type": "markdown",
      "source": [
        "##### 3. Will the gained insights help creating a positive business impact? \n",
        "Are there any insights that lead to negative growth? Justify with specific reason."
      ],
      "metadata": {
        "id": "448CDAPjqfQr"
      }
    },
    {
      "cell_type": "markdown",
      "source": [
        "From the analysis we can clearly seen that in playstore most of the apps are under Family & Game category.So Family & Game category apps are more demanded category in the play store."
      ],
      "metadata": {
        "id": "3cspy4FjqxJW"
      }
    },
    {
      "cell_type": "markdown",
      "source": [
        "#### Chart-2 Which category apps have the most number of installs?"
      ],
      "metadata": {
        "id": "KSlN3yHqYklG"
      }
    },
    {
      "cell_type": "code",
      "source": [
        "# Chart - 2 visualization code\n",
        "clean_df.head(2)"
      ],
      "metadata": {
        "id": "R4YgtaqtYklH"
      },
      "execution_count": null,
      "outputs": []
    },
    {
      "cell_type": "code",
      "source": [
        "most_number_of_installs_df=clean_df.groupby(\"Category\")[\"Installs\"].sum().sort_values(ascending=False).reset_index()"
      ],
      "metadata": {
        "id": "QMtfhJgo9n3T"
      },
      "execution_count": null,
      "outputs": []
    },
    {
      "cell_type": "code",
      "source": [
        "most_number_of_installs_df\n"
      ],
      "metadata": {
        "id": "b0T4l8P09n_2"
      },
      "execution_count": null,
      "outputs": []
    },
    {
      "cell_type": "code",
      "source": [
        "#creating the barplot\n",
        "x2=most_number_of_installs_df[\"Installs\"]\n",
        "y2=most_number_of_installs_df[\"Category\"]\n",
        "\n",
        "plt.figure(figsize=(16,12))\n",
        "graph2=sns.barplot(x=x2,y=y2,alpha=0.9,palette=\"inferno_r\")\n",
        "plt.title(\"categories vs Installs\",fontsize=30)\n",
        "plt.xlabel(\"Category\",fontsize=18)\n",
        "plt.ylabel(\"Installs\",fontsize=18)\n",
        "plt.show()"
      ],
      "metadata": {
        "id": "6t4PCU0j9oc5"
      },
      "execution_count": null,
      "outputs": []
    },
    {
      "cell_type": "markdown",
      "source": [
        "##### 1. Why did you pick the specific chart?"
      ],
      "metadata": {
        "id": "t6dVpIINYklI"
      }
    },
    {
      "cell_type": "markdown",
      "source": [
        "To check the relation between categories and number of Installs of this categories"
      ],
      "metadata": {
        "id": "5aaW0BYyYklI"
      }
    },
    {
      "cell_type": "markdown",
      "source": [
        "##### 2. What is/are the insight(s) found from the chart?"
      ],
      "metadata": {
        "id": "ijmpgYnKYklI"
      }
    },
    {
      "cell_type": "markdown",
      "source": [
        "From the above graph we can see that there are total of 33 categories in the dataset. We can come to the conclusion that in the playstore the top categories with the highest installs is-GAME category and least is EVENTS categories."
      ],
      "metadata": {
        "id": "PSx9atu2YklI"
      }
    },
    {
      "cell_type": "markdown",
      "source": [
        "##### 3. Will the gained insights help creating a positive business impact? \n",
        "Are there any insights that lead to negative growth? Justify with specific reason."
      ],
      "metadata": {
        "id": "-JiQyfWJYklI"
      }
    },
    {
      "cell_type": "markdown",
      "source": [
        "Game category has highest instalation and Events categories has lowest.so we need to focused on making a Game Category App."
      ],
      "metadata": {
        "id": "BcBbebzrYklV"
      }
    },
    {
      "cell_type": "markdown",
      "source": [
        "#### Chart-3 Which app category are paid or free with percentage?"
      ],
      "metadata": {
        "id": "EM7whBJCYoAo"
      }
    },
    {
      "cell_type": "code",
      "source": [
        "# Chart - 3 visualization code\n",
        "clean_df.head(2)"
      ],
      "metadata": {
        "id": "t6GMdE67YoAp"
      },
      "execution_count": null,
      "outputs": []
    },
    {
      "cell_type": "code",
      "source": [
        "app_category=clean_df.Type.value_counts().reset_index()"
      ],
      "metadata": {
        "id": "WsSWrvG6_YEA"
      },
      "execution_count": null,
      "outputs": []
    },
    {
      "cell_type": "code",
      "source": [
        "app_category"
      ],
      "metadata": {
        "id": "r076enyq_YIX"
      },
      "execution_count": null,
      "outputs": []
    },
    {
      "cell_type": "code",
      "source": [
        "#creating the pieplot\n",
        "slices=app_category[\"Type\"]\n",
        "labels=app_category[\"index\"]\n",
        "col=[\"b\",\"g\"]\n",
        "\n",
        "graph3=plt.pie(slices,labels=labels,colors=col,startangle=45,shadow=True,explode=(0,0.1),autopct=\"%1.1f%%\")\n",
        "plt.title('Percent of Free Vs Paid Apps in store',size = 20)\n",
        "plt.show()"
      ],
      "metadata": {
        "id": "TLOF-1cM_YNl"
      },
      "execution_count": null,
      "outputs": []
    },
    {
      "cell_type": "markdown",
      "source": [
        "##### 1. Why did you pick the specific chart?"
      ],
      "metadata": {
        "id": "fge-S5ZAYoAp"
      }
    },
    {
      "cell_type": "markdown",
      "source": [
        "For check the percentage of Free and Paid app in the playstore"
      ],
      "metadata": {
        "id": "5dBItgRVYoAp"
      }
    },
    {
      "cell_type": "markdown",
      "source": [
        "##### 2. What is/are the insight(s) found from the chart?"
      ],
      "metadata": {
        "id": "85gYPyotYoAp"
      }
    },
    {
      "cell_type": "markdown",
      "source": [
        "It is indicates that 92.6% apps are free to dowenload and rest 7.4% are paid apps."
      ],
      "metadata": {
        "id": "4jstXR6OYoAp"
      }
    },
    {
      "cell_type": "markdown",
      "source": [
        "##### 3. Will the gained insights help creating a positive business impact? \n",
        "Are there any insights that lead to negative growth? Justify with specific reason."
      ],
      "metadata": {
        "id": "RoGjAbkUYoAp"
      }
    },
    {
      "cell_type": "markdown",
      "source": [
        "In the play store maximum number of apps are free of cost.so, we should focused on making Free app for more trafic.   "
      ],
      "metadata": {
        "id": "zfJ8IqMcYoAp"
      }
    },
    {
      "cell_type": "markdown",
      "source": [
        "#### Chart-4 Let’s have a look at the distribution of the ratings of the data frame"
      ],
      "metadata": {
        "id": "4Of9eVA-YrdM"
      }
    },
    {
      "cell_type": "code",
      "source": [
        "# Chart - 4 visualization code\n",
        "clean_df.head(2)"
      ],
      "metadata": {
        "id": "irlUoxc8YrdO"
      },
      "execution_count": null,
      "outputs": []
    },
    {
      "cell_type": "code",
      "source": [
        "#creating the kdeplot\n",
        "plt.figure(figsize=(15,9))\n",
        "plt.xlabel(\"Rating\",fontsize=18)\n",
        "plt.ylabel(\"Frequency\",fontsize=18)\n",
        "graph4 = sns.kdeplot(clean_df.Rating, color=\"r\", shade = True)\n",
        "plt.title('Distribution of Rating',size = 20);"
      ],
      "metadata": {
        "id": "aajVlV6ZA6Ps"
      },
      "execution_count": null,
      "outputs": []
    },
    {
      "cell_type": "markdown",
      "source": [
        "##### 1. Why did you pick the specific chart?"
      ],
      "metadata": {
        "id": "iky9q4vBYrdO"
      }
    },
    {
      "cell_type": "markdown",
      "source": [
        "To see the distribution of the rating of the dataframe.  "
      ],
      "metadata": {
        "id": "aJRCwT6DYrdO"
      }
    },
    {
      "cell_type": "markdown",
      "source": [
        "##### 2. What is/are the insight(s) found from the chart?"
      ],
      "metadata": {
        "id": "F6T5p64dYrdO"
      }
    },
    {
      "cell_type": "markdown",
      "source": [
        "From the above graph, we can come to the conclusion that most of the apps in the google play store are rated between 3.8 to 4.8."
      ],
      "metadata": {
        "id": "Xx8WAJvtYrdO"
      }
    },
    {
      "cell_type": "markdown",
      "source": [
        "#### Chart-5 Which category of Apps from the ‘Content Rating’ column is found more on the play store?"
      ],
      "metadata": {
        "id": "bamQiAODYuh1"
      }
    },
    {
      "cell_type": "code",
      "source": [
        "# Chart - 5 visualization code\n",
        "clean_df.head(2)"
      ],
      "metadata": {
        "id": "TIJwrbroYuh3"
      },
      "execution_count": null,
      "outputs": []
    },
    {
      "cell_type": "code",
      "source": [
        "cate_cont_rat=clean_df[\"Content Rating\"].value_counts(ascending=False).reset_index()"
      ],
      "metadata": {
        "id": "9AmQ5F7FBpQL"
      },
      "execution_count": null,
      "outputs": []
    },
    {
      "cell_type": "code",
      "source": [
        "cate_cont_rat"
      ],
      "metadata": {
        "id": "b_ZqPdCuBt7Y"
      },
      "execution_count": null,
      "outputs": []
    },
    {
      "cell_type": "code",
      "source": [
        "#let's plot the barplot graph\n",
        "plt.figure(figsize=(15,12))\n",
        "graph5=sns.barplot(x=cate_cont_rat[\"index\"],y=cate_cont_rat[\"Content Rating\"])\n",
        "\n",
        "plt.title(\"Content Rating\",fontsize=24)\n",
        "plt.xlabel(\"Content Rating\",fontsize=18)\n",
        "plt.ylabel(\"Apps counts\",fontsize=18)\n",
        "plt.show()"
      ],
      "metadata": {
        "id": "5VegX3YOBt-z"
      },
      "execution_count": null,
      "outputs": []
    },
    {
      "cell_type": "markdown",
      "source": [
        "##### 1. Why did you pick the specific chart?"
      ],
      "metadata": {
        "id": "QHF8YVU7Yuh3"
      }
    },
    {
      "cell_type": "markdown",
      "source": [
        "For check which category of Apps from the ‘Content Rating’ column is found more on the play store"
      ],
      "metadata": {
        "id": "dcxuIMRPYuh3"
      }
    },
    {
      "cell_type": "markdown",
      "source": [
        "##### 2. What is/are the insight(s) found from the chart?"
      ],
      "metadata": {
        "id": "GwzvFGzlYuh3"
      }
    },
    {
      "cell_type": "markdown",
      "source": [
        "From the above plot, we can see that the Everyone category has the highest number of apps and unrated category has the lowest number of apps"
      ],
      "metadata": {
        "id": "uyqkiB8YYuh3"
      }
    },
    {
      "cell_type": "markdown",
      "source": [
        "##### 3. Will the gained insights help creating a positive business impact? \n",
        "Are there any insights that lead to negative growth? Justify with specific reason."
      ],
      "metadata": {
        "id": "qYpmQ266Yuh3"
      }
    },
    {
      "cell_type": "markdown",
      "source": [
        "In the play store maximum number of apps are avalaible for Everyone and then for Teen. Few of the apps are restricted for 17+ and 10+ category. So we need to focous on Everone category app for more reach to the user  "
      ],
      "metadata": {
        "id": "_WtzZ_hCYuh4"
      }
    },
    {
      "cell_type": "markdown",
      "source": [
        "#### Chart-6 Let’s have a look at the distribution of the Size of the data frame"
      ],
      "metadata": {
        "id": "OH-pJp9IphqM"
      }
    },
    {
      "cell_type": "code",
      "source": [
        "# Chart - 6 visualization code\n",
        "clean_df.head(2)"
      ],
      "metadata": {
        "id": "kuRf4wtuphqN"
      },
      "execution_count": null,
      "outputs": []
    },
    {
      "cell_type": "code",
      "source": [
        "# creating the histrplot graph\n",
        "plt.figure(figsize=(15,12))\n",
        "graph6=sns.histplot(clean_df['Size'],kde=True,color=\"g\");\n",
        "plt.xlabel(\"Size\",fontsize=18)\n",
        "plt.title(\"Distribution of Size\",fontsize=26)\n",
        "plt.show()"
      ],
      "metadata": {
        "id": "aOudjx5VDPYP"
      },
      "execution_count": null,
      "outputs": []
    },
    {
      "cell_type": "markdown",
      "source": [
        "##### 1. Why did you pick the specific chart?"
      ],
      "metadata": {
        "id": "bbFf2-_FphqN"
      }
    },
    {
      "cell_type": "markdown",
      "source": [
        "For look at the distribution of the Size of the data frame"
      ],
      "metadata": {
        "id": "loh7H2nzphqN"
      }
    },
    {
      "cell_type": "markdown",
      "source": [
        "##### 2. What is/are the insight(s) found from the chart?"
      ],
      "metadata": {
        "id": "_ouA3fa0phqN"
      }
    },
    {
      "cell_type": "markdown",
      "source": [
        "From the above histogram, we can come to the conclusion that maximum number of applications present in the dataset are of small size."
      ],
      "metadata": {
        "id": "VECbqPI7phqN"
      }
    },
    {
      "cell_type": "markdown",
      "source": [
        "#### Chart-7 What are the top 10 installed apps in any category?"
      ],
      "metadata": {
        "id": "PIIx-8_IphqN"
      }
    },
    {
      "cell_type": "code",
      "source": [
        "# Chart - 7 visualization code\n",
        "clean_df.head(2)"
      ],
      "metadata": {
        "id": "lqAIGUfyphqO"
      },
      "execution_count": null,
      "outputs": []
    },
    {
      "cell_type": "code",
      "source": [
        "def findtop10(str):\n",
        "    selected_category=clean_df[clean_df[\"Category\"]==str]\n",
        "    top10installed_selected_categorey_app=selected_category.sort_values(by=\"Installs\",ascending=False).head(10)\n",
        "    return top10installed_selected_categorey_app"
      ],
      "metadata": {
        "id": "rD4ALzUOF-7O"
      },
      "execution_count": null,
      "outputs": []
    },
    {
      "cell_type": "code",
      "source": [
        "top10=findtop10(\"ART_AND_DESIGN\")"
      ],
      "metadata": {
        "id": "Ga3_D5OYH9eh"
      },
      "execution_count": null,
      "outputs": []
    },
    {
      "cell_type": "code",
      "source": [
        "top10"
      ],
      "metadata": {
        "id": "rqtqcExPH9h6"
      },
      "execution_count": null,
      "outputs": []
    },
    {
      "cell_type": "code",
      "source": [
        "# creating the barplot\n",
        "x1_=top10[\"App\"]\n",
        "y1_=top10[\"Installs\"]"
      ],
      "metadata": {
        "id": "BD9vwsHKcDp8"
      },
      "execution_count": null,
      "outputs": []
    },
    {
      "cell_type": "code",
      "source": [
        "# creating the barplot\n",
        "plt.figure(figsize=(10,8))\n",
        "graph1_=sns.barplot(x=x1_,y=y1_)\n",
        "plt.title(\"Top 10 Installed Apps\",fontsize=30)\n",
        "graph1_.set_xticklabels(graph1_.get_xticklabels(),rotation=45,horizontalalignment=\"right\")\n",
        "plt.show()"
      ],
      "metadata": {
        "id": "DAJKeYLSH9qW"
      },
      "execution_count": null,
      "outputs": []
    },
    {
      "cell_type": "markdown",
      "source": [
        "##### 1. Why did you pick the specific chart?"
      ],
      "metadata": {
        "id": "t27r6nlMphqO"
      }
    },
    {
      "cell_type": "markdown",
      "source": [
        "For check the relation between app size and installs"
      ],
      "metadata": {
        "id": "iv6ro40sphqO"
      }
    },
    {
      "cell_type": "markdown",
      "source": [
        "##### 2. What is/are the insight(s) found from the chart?"
      ],
      "metadata": {
        "id": "r2jJGEOYphqO"
      }
    },
    {
      "cell_type": "markdown",
      "source": [
        " From the above graph we can see that in the \"ART_AND_DESIGN\" category's \"Sketch - Draw & Paint\" has the highest install and Text on Photo-Fonteee has lowest install."
      ],
      "metadata": {
        "id": "Po6ZPi4hphqO"
      }
    },
    {
      "cell_type": "markdown",
      "source": [
        "##### 3. Will the gained insights help creating a positive business impact? \n",
        "Are there any insights that lead to negative growth? Justify with specific reason."
      ],
      "metadata": {
        "id": "b0JNsNcRphqO"
      }
    },
    {
      "cell_type": "markdown",
      "source": [
        "Answer Here"
      ],
      "metadata": {
        "id": "xvSq8iUTphqO"
      }
    },
    {
      "cell_type": "markdown",
      "source": [
        "#### Chart-8 Which are the Apps have the heighest numbers of reviews"
      ],
      "metadata": {
        "id": "BZR9WyysphqO"
      }
    },
    {
      "cell_type": "code",
      "source": [
        "# Chart - 8 visualization code\n",
        "clean_df.head(2)"
      ],
      "metadata": {
        "id": "TdPTWpAVphqO"
      },
      "execution_count": null,
      "outputs": []
    },
    {
      "cell_type": "code",
      "source": [
        "#sorting total num of reviews get by a apps in descending order \n",
        "reviews=clean_df.sort_values(by=\"Reviews\",ascending=False).head(25)"
      ],
      "metadata": {
        "id": "GHyeVQhq6-_a"
      },
      "execution_count": null,
      "outputs": []
    },
    {
      "cell_type": "code",
      "source": [
        "reviews"
      ],
      "metadata": {
        "id": "VzjF1U0-6_QI"
      },
      "execution_count": null,
      "outputs": []
    },
    {
      "cell_type": "code",
      "source": [
        "#creating the barplot\n",
        "x2_=reviews[\"Reviews\"]\n",
        "y2_=reviews[\"App\"]\n",
        "\n",
        "plt.figure(figsize=(10,8))\n",
        "graph2_=sns.barplot(x=x2_,y=y2_,alpha=0.9,palette=\"Accent\")\n",
        "plt.title(\"Top 10 Review Apps\",fontsize=30)\n",
        "plt.xlabel(\"Reviews\",fontsize=18)\n",
        "plt.ylabel(\"Apps\",fontsize=18)\n",
        "plt.show()"
      ],
      "metadata": {
        "id": "6kIg5OGd7Lsd"
      },
      "execution_count": null,
      "outputs": []
    },
    {
      "cell_type": "markdown",
      "source": [
        "##### 1. Why did you pick the specific chart?"
      ],
      "metadata": {
        "id": "jj7wYXLtphqO"
      }
    },
    {
      "cell_type": "markdown",
      "source": [],
      "metadata": {
        "id": "Ob8u6rCTphqO"
      }
    },
    {
      "cell_type": "markdown",
      "source": [
        "##### 2. What is/are the insight(s) found from the chart?"
      ],
      "metadata": {
        "id": "eZrbJ2SmphqO"
      }
    },
    {
      "cell_type": "markdown",
      "source": [
        "From the above plot we can see that Facebook has the heighest number of reviews and Clash Royale has lowest number of reviews "
      ],
      "metadata": {
        "id": "mZtgC_hjphqO"
      }
    },
    {
      "cell_type": "markdown",
      "source": [
        "##### 3. Will the gained insights help creating a positive business impact? \n",
        "Are there any insights that lead to negative growth? Justify with specific reason."
      ],
      "metadata": {
        "id": "rFu4xreNphqO"
      }
    },
    {
      "cell_type": "markdown",
      "source": [
        "Answer Here"
      ],
      "metadata": {
        "id": "ey_0qi68phqO"
      }
    },
    {
      "cell_type": "markdown",
      "source": [
        "#### Chart-9 How does size impact on the number of installs of any application?"
      ],
      "metadata": {
        "id": "YJ55k-q6phqO"
      }
    },
    {
      "cell_type": "code",
      "source": [
        "# Chart - 9 visualization code\n",
        "clean_df.head(2)"
      ],
      "metadata": {
        "id": "B2aS4O1ophqO"
      },
      "execution_count": null,
      "outputs": []
    },
    {
      "cell_type": "code",
      "source": [
        "#As we can notice,there is a high variance in the number of installs.\n",
        "#To resolve this problem we are useing the log of number of installs in the solution\n",
        "x4_=clean_df['Size']\n",
        "y4_=np.log10(clean_df['Installs'])"
      ],
      "metadata": {
        "id": "zG7fG1b-8DQa"
      },
      "execution_count": null,
      "outputs": []
    },
    {
      "cell_type": "code",
      "source": [
        "#creating the scatterplot\n",
        "plt.figure(figsize=(14,7))\n",
        "plt.title(\"Impact of size on the number of installs(base10)\")\n",
        "sns.scatterplot(x=x4_,y=y4_, hue=clean_df['Type'])\n",
        "plt.show()"
      ],
      "metadata": {
        "id": "tCEq1ski8DUS"
      },
      "execution_count": null,
      "outputs": []
    },
    {
      "cell_type": "code",
      "source": [],
      "metadata": {
        "id": "x96b5eSy8DXq"
      },
      "execution_count": null,
      "outputs": []
    },
    {
      "cell_type": "markdown",
      "source": [
        "##### 1. Why did you pick the specific chart?"
      ],
      "metadata": {
        "id": "gCFgpxoyphqP"
      }
    },
    {
      "cell_type": "markdown",
      "source": [
        "Answer Here."
      ],
      "metadata": {
        "id": "TVxDimi2phqP"
      }
    },
    {
      "cell_type": "markdown",
      "source": [
        "##### 2. What is/are the insight(s) found from the chart?"
      ],
      "metadata": {
        "id": "OVtJsKN_phqQ"
      }
    },
    {
      "cell_type": "markdown",
      "source": [
        "It is clear from the above mentioned plot that size may impact the number of installations. Bulky applications are less installed by the user."
      ],
      "metadata": {
        "id": "ngGi97qjphqQ"
      }
    },
    {
      "cell_type": "markdown",
      "source": [
        "##### 3. Will the gained insights help creating a positive business impact? \n",
        "Are there any insights that lead to negative growth? Justify with specific reason."
      ],
      "metadata": {
        "id": "lssrdh5qphqQ"
      }
    },
    {
      "cell_type": "markdown",
      "source": [
        "Answer Here"
      ],
      "metadata": {
        "id": "tBpY5ekJphqQ"
      }
    },
    {
      "cell_type": "markdown",
      "source": [
        "#### Chart-10  Which are the Genres that are getting installed the most in top 20 Genres?"
      ],
      "metadata": {
        "id": "U2RJ9gkRphqQ"
      }
    },
    {
      "cell_type": "code",
      "source": [
        "# Chart - 10 visualization code\n",
        "clean_df.head(2)"
      ],
      "metadata": {
        "id": "GM7a4YP4phqQ"
      },
      "execution_count": null,
      "outputs": []
    },
    {
      "cell_type": "code",
      "source": [
        "#finding top 20 genres that are getting installed the most\n",
        "top20_geners=clean_df.groupby(\"Genres\")[\"Installs\"].sum().sort_values(ascending=False).head(20).reset_index()"
      ],
      "metadata": {
        "id": "7S664hP38Yax"
      },
      "execution_count": null,
      "outputs": []
    },
    {
      "cell_type": "code",
      "source": [
        "top20_geners"
      ],
      "metadata": {
        "id": "aJKyqELp8YXh"
      },
      "execution_count": null,
      "outputs": []
    },
    {
      "cell_type": "code",
      "source": [
        "#creating the barplot\n",
        "plt.figure(figsize=(15,12))\n",
        "sns.barplot(x=top20_geners[\"Genres\"],y=top20_geners[\"Installs\"])\n",
        "plt.xticks(rotation=45)\n",
        "plt.show()"
      ],
      "metadata": {
        "id": "JCDhScc28nEW"
      },
      "execution_count": null,
      "outputs": []
    },
    {
      "cell_type": "markdown",
      "source": [
        "##### 1. Why did you pick the specific chart?"
      ],
      "metadata": {
        "id": "1M8mcRywphqQ"
      }
    },
    {
      "cell_type": "markdown",
      "source": [
        "Answer Here."
      ],
      "metadata": {
        "id": "8agQvks0phqQ"
      }
    },
    {
      "cell_type": "markdown",
      "source": [
        "##### 2. What is/are the insight(s) found from the chart?"
      ],
      "metadata": {
        "id": "tgIPom80phqQ"
      }
    },
    {
      "cell_type": "markdown",
      "source": [
        "From the above plot we can come to the conclusion that maximum app install comes under Comunication Genres and followed by Social, Productivity and Tools Genres"
      ],
      "metadata": {
        "id": "Qp13pnNzphqQ"
      }
    },
    {
      "cell_type": "markdown",
      "source": [
        "##### 3. Will the gained insights help creating a positive business impact? \n",
        "Are there any insights that lead to negative growth? Justify with specific reason."
      ],
      "metadata": {
        "id": "JMzcOPDDphqR"
      }
    },
    {
      "cell_type": "markdown",
      "source": [
        "Answer Here"
      ],
      "metadata": {
        "id": "R4Ka1PC2phqR"
      }
    },
    {
      "cell_type": "markdown",
      "source": [
        "#### Chart-11 Find the highest and the lowest rated Genres"
      ],
      "metadata": {
        "id": "x-EpHcCOp1ci"
      }
    },
    {
      "cell_type": "code",
      "source": [
        "# Chart - 11 visualization code\n",
        "clean_df.head(2)"
      ],
      "metadata": {
        "id": "mAQTIvtqp1cj"
      },
      "execution_count": null,
      "outputs": []
    },
    {
      "cell_type": "code",
      "source": [
        "#finding highest rated genres\n",
        "highest_rated_genres=clean_df.groupby(\"Genres\")[\"Rating\"].mean().sort_values(ascending=False).reset_index()"
      ],
      "metadata": {
        "id": "QH8eQV8i86Uv"
      },
      "execution_count": null,
      "outputs": []
    },
    {
      "cell_type": "code",
      "source": [
        "#take first 10 values\n",
        "top10_highest_rated_genres=highest_rated_genres.head(10)"
      ],
      "metadata": {
        "id": "dGAUpMxu86W1"
      },
      "execution_count": null,
      "outputs": []
    },
    {
      "cell_type": "code",
      "source": [
        "top10_highest_rated_genres"
      ],
      "metadata": {
        "id": "MdStQSL186Yx"
      },
      "execution_count": null,
      "outputs": []
    },
    {
      "cell_type": "code",
      "source": [
        "#creating the barplot\n",
        "plt.figure(figsize=(12,8))\n",
        "sns.barplot(x=top10_highest_rated_genres[\"Genres\"],y=top10_highest_rated_genres[\"Rating\"])\n",
        "plt.xticks(rotation=45)\n",
        "plt.title(\"Highest Rated Genres\",fontsize=28)\n",
        "plt.show()"
      ],
      "metadata": {
        "id": "Ov0Pxyzr86cR"
      },
      "execution_count": null,
      "outputs": []
    },
    {
      "cell_type": "code",
      "source": [
        "#finding lowest rated genres\n",
        "lowest_rated_genres=clean_df.groupby(\"Genres\")[\"Rating\"].mean().sort_values(ascending=True).reset_index()"
      ],
      "metadata": {
        "id": "Xc9U02gN9Lkj"
      },
      "execution_count": null,
      "outputs": []
    },
    {
      "cell_type": "code",
      "source": [
        "#take first 10 values\n",
        "top10_lowest_rated_genres=lowest_rated_genres.head(10)"
      ],
      "metadata": {
        "id": "ft0eJYdg9OsO"
      },
      "execution_count": null,
      "outputs": []
    },
    {
      "cell_type": "code",
      "source": [
        "top10_lowest_rated_genres"
      ],
      "metadata": {
        "id": "vMw84Khb9OxU"
      },
      "execution_count": null,
      "outputs": []
    },
    {
      "cell_type": "code",
      "source": [
        "#creating the barplot\n",
        "plt.figure(figsize=(12,8))\n",
        "sns.barplot(x=top10_lowest_rated_genres[\"Genres\"],y=top10_lowest_rated_genres[\"Rating\"])\n",
        "plt.xticks(rotation=45)\n",
        "plt.title(\"Lowest Rated Genres\",fontsize=28)\n",
        "plt.show()"
      ],
      "metadata": {
        "id": "ghXX4Qgx9ZG1"
      },
      "execution_count": null,
      "outputs": []
    },
    {
      "cell_type": "markdown",
      "source": [
        "##### 1. Why did you pick the specific chart?"
      ],
      "metadata": {
        "id": "X_VqEhTip1ck"
      }
    },
    {
      "cell_type": "markdown",
      "source": [
        "Answer Here."
      ],
      "metadata": {
        "id": "-vsMzt_np1ck"
      }
    },
    {
      "cell_type": "markdown",
      "source": [
        "##### 2. What is/are the insight(s) found from the chart?"
      ],
      "metadata": {
        "id": "8zGJKyg5p1ck"
      }
    },
    {
      "cell_type": "markdown",
      "source": [
        "From the above graph we can see that Comics;Creativity and Board;Pretend Play are the highest rated genres\n",
        "\n",
        "From the above graph we can see that Parenting:Brain Games is the lowest rated genres"
      ],
      "metadata": {
        "id": "ZYdMsrqVp1ck"
      }
    },
    {
      "cell_type": "markdown",
      "source": [
        "##### 3. Will the gained insights help creating a positive business impact? \n",
        "Are there any insights that lead to negative growth? Justify with specific reason."
      ],
      "metadata": {
        "id": "PVzmfK_Ep1ck"
      }
    },
    {
      "cell_type": "markdown",
      "source": [
        "Answer Here"
      ],
      "metadata": {
        "id": "druuKYZpp1ck"
      }
    },
    {
      "cell_type": "markdown",
      "source": [
        "#### Chart-12 Most Android Ver supported apps in play store"
      ],
      "metadata": {
        "id": "n3dbpmDWp1ck"
      }
    },
    {
      "cell_type": "code",
      "source": [
        "# Chart - 12 visualization code\n",
        "clean_df.head(2)"
      ],
      "metadata": {
        "id": "bwevp1tKp1ck"
      },
      "execution_count": null,
      "outputs": []
    },
    {
      "cell_type": "code",
      "source": [
        "#Find the table of android version and its total counts\n",
        "android_Ver_df=clean_df[\"Android Ver\"].value_counts().reset_index().rename(columns={\"index\":\"Android Ver\",\"Android Ver\":\"count\"})"
      ],
      "metadata": {
        "id": "Sgw0itHu9qW2"
      },
      "execution_count": null,
      "outputs": []
    },
    {
      "cell_type": "code",
      "source": [
        "android_Ver_df"
      ],
      "metadata": {
        "id": "-MZQM9Er9qaL"
      },
      "execution_count": null,
      "outputs": []
    },
    {
      "cell_type": "code",
      "source": [
        "#creating the pieplot\n",
        "plt.figure(figsize=(12,8))\n",
        "slices=android_Ver_df[\"count\"]\n",
        "labels=android_Ver_df[\"Android Ver\"]\n",
        "\n",
        "graph3=plt.pie(slices,labels=labels,startangle=45,autopct=\"%1.1f%%\")\n",
        "plt.title('Android Version Supported Apps Across the whole Database',size = 10)\n",
        "plt.show()"
      ],
      "metadata": {
        "id": "Ukq3CdT59qfV"
      },
      "execution_count": null,
      "outputs": []
    },
    {
      "cell_type": "markdown",
      "source": [
        "##### 1. Why did you pick the specific chart?"
      ],
      "metadata": {
        "id": "ylSl6qgtp1ck"
      }
    },
    {
      "cell_type": "markdown",
      "source": [
        "There are total 33 categories in the dataset From the above plot and we can come to a conclusion that in playstore most of the apps are under Family & Game category and least are of Beauty & Comics Category.we can see that there are total of 33 categories in the dataset. We can come to the conclusion that in the playstore the top categories with the highest installs is-GAME category and least is EVENTS categories.It is indicates that 92.6% apps are free to dowenload and rest 7.4% are paid apps. that most of the apps in the google play store are rated between 3.8 to 4.8. Everyone category has the highest number of apps and unrated category has the lowest number of apps.maximum number of applications present in the dataset are of small size. the \"ART_AND_DESIGN\" category's \"Sketch - Draw & Paint\" has the highest install and Text on Photo-Fonteee has lowest install.that Facebook has the heighest number of reviews and Clash Royale has lowest number of reviews.It is clear from the above mentioned plot that size may impact the number of installations. Bulky applications are less installed by the user.we can come to the conclusion that maximum app install comes under Comunication Genres and followed by Social, Productivity and Tools Genres.After identify total distribution percentage on data, given details of more app supported Android OS version Basically android 4.0 and above version supported app ratio is very heigher and more then 60% apps support only on android 4.0 and above."
      ],
      "metadata": {
        "id": "m2xqNkiQp1ck"
      }
    },
    {
      "cell_type": "markdown",
      "source": [
        "##### 2. What is/are the insight(s) found from the chart?"
      ],
      "metadata": {
        "id": "ZWILFDl5p1ck"
      }
    },
    {
      "cell_type": "markdown",
      "source": [
        "After identify total distribution percentage on data, given details of more app supported Android OS version Basically android 4.0 and above version supported app ratio is very heigher and more then 60% apps support only on android 4.0 and above."
      ],
      "metadata": {
        "id": "x-lUsV2mp1ck"
      }
    },
    {
      "cell_type": "markdown",
      "source": [
        "##### 3. Will the gained insights help creating a positive business impact? \n",
        "Are there any insights that lead to negative growth? Justify with specific reason."
      ],
      "metadata": {
        "id": "M7G43BXep1ck"
      }
    },
    {
      "cell_type": "markdown",
      "source": [],
      "metadata": {
        "id": "5wwDJXsLp1cl"
      }
    },
    {
      "cell_type": "markdown",
      "source": [
        "# Chart-13 App update details \"By Year\""
      ],
      "metadata": {
        "id": "Ag9LCva-p1cl"
      }
    },
    {
      "cell_type": "code",
      "source": [
        "# Chart - 13 visualization code\n",
        "clean_df.head(2)"
      ],
      "metadata": {
        "id": "EUfxeq9-p1cl"
      },
      "execution_count": null,
      "outputs": []
    },
    {
      "cell_type": "code",
      "source": [
        "#Find the table of last updated year counts \n",
        "last_updated_year=clean_df[\"Last Updated\"].dt.year.value_counts().reset_index().rename(columns={\"index\":\"Year\",\"Last Updated\":\"counts\"})"
      ],
      "metadata": {
        "id": "ujPrHNZ9-ImE"
      },
      "execution_count": null,
      "outputs": []
    },
    {
      "cell_type": "code",
      "source": [
        "last_updated_year"
      ],
      "metadata": {
        "id": "gFIHeUcF-IvI"
      },
      "execution_count": null,
      "outputs": []
    },
    {
      "cell_type": "code",
      "source": [
        "#creating the barplot\n",
        "plt.figure(figsize=(8,6))\n",
        "sns.barplot(x=last_updated_year.Year,y=last_updated_year.counts)\n",
        "plt.xticks(rotation=45)\n",
        "plt.ylabel(\"numberof apps updated\")\n",
        "plt.title(\"App updatation by year\",fontsize=20)\n",
        "plt.show()"
      ],
      "metadata": {
        "id": "4zNMZAAi-I2P"
      },
      "execution_count": null,
      "outputs": []
    },
    {
      "cell_type": "markdown",
      "source": [
        "##### 1. Why did you pick the specific chart?"
      ],
      "metadata": {
        "id": "E6MkPsBcp1cl"
      }
    },
    {
      "cell_type": "markdown",
      "source": [
        "Answer Here."
      ],
      "metadata": {
        "id": "V22bRsFWp1cl"
      }
    },
    {
      "cell_type": "code",
      "source": [],
      "metadata": {
        "id": "JZAOdElw-yv3"
      },
      "execution_count": null,
      "outputs": []
    },
    {
      "cell_type": "code",
      "source": [
        "#creating the plot\n",
        "plt.figure(figsize=(12,6))\n",
        "plt.xlabel(\"Subjectivity\")\n",
        "plt.title(\"Distribution of Subjectivity\")\n",
        "plt.hist(merge_df['Sentiment_Subjectivity'])\n",
        "plt.show()"
      ],
      "metadata": {
        "id": "W4PaJBDr-yp-"
      },
      "execution_count": null,
      "outputs": []
    },
    {
      "cell_type": "markdown",
      "source": [
        "##### 2. What is/are the insight(s) found from the chart?"
      ],
      "metadata": {
        "id": "2cELzS2fp1cl"
      }
    },
    {
      "cell_type": "markdown",
      "source": [
        "From this barplot we can see that a very wide range of app updated in play store during 2017-2018"
      ],
      "metadata": {
        "id": "ozQPc2_Ip1cl"
      }
    },
    {
      "cell_type": "markdown",
      "source": [
        "##### 3. Will the gained insights help creating a positive business impact? \n",
        "Are there any insights that lead to negative growth? Justify with specific reason."
      ],
      "metadata": {
        "id": "3MPXvC8up1cl"
      }
    },
    {
      "cell_type": "markdown",
      "source": [
        "Answer Here"
      ],
      "metadata": {
        "id": "GL8l1tdLp1cl"
      }
    },
    {
      "cell_type": "code",
      "source": [
        "merge_df.head(2)"
      ],
      "metadata": {
        "id": "WQmUTGAw-ygn"
      },
      "execution_count": null,
      "outputs": []
    },
    {
      "cell_type": "markdown",
      "source": [
        "# Chart-14 Histogram of subjectivity"
      ],
      "metadata": {
        "id": "ALB68b2V-eKo"
      }
    },
    {
      "cell_type": "code",
      "source": [
        "merge_df.head(2)"
      ],
      "metadata": {
        "id": "MsAwb7gC_hSB"
      },
      "execution_count": null,
      "outputs": []
    },
    {
      "cell_type": "code",
      "source": [
        "#creating the plot\n",
        "plt.figure(figsize=(12,6))\n",
        "plt.xlabel(\"Subjectivity\")\n",
        "plt.title(\"Distribution of Subjectivity\")\n",
        "plt.hist(merge_df['Sentiment_Subjectivity'])\n",
        "plt.show()"
      ],
      "metadata": {
        "id": "02hd8Ldl_hdv"
      },
      "execution_count": null,
      "outputs": []
    },
    {
      "cell_type": "markdown",
      "source": [
        "##### 1. Why did you pick the specific chart?"
      ],
      "metadata": {
        "id": "RdQYTHOwCR6K"
      }
    },
    {
      "cell_type": "markdown",
      "source": [
        "For plot the Distribution of Subjectivity"
      ],
      "metadata": {
        "id": "7RviIZhkDpsW"
      }
    },
    {
      "cell_type": "markdown",
      "source": [
        "##### 2. What is/are the insight(s) found from the chart?"
      ],
      "metadata": {
        "id": "yu3DFBFg_kCi"
      }
    },
    {
      "cell_type": "markdown",
      "source": [
        "From this graph it can be seen that maximum number of sentiment subjectivity lies between 0.4 to 0.7.\n",
        "\n",
        "So we can conclude that maximum number of users give reviews to the applications, according to their experience."
      ],
      "metadata": {
        "id": "KEQ2M_vhCMbu"
      }
    },
    {
      "cell_type": "markdown",
      "source": [
        "# Chart-15 Is sentiment subjectivity proportional to sentiment polarity?"
      ],
      "metadata": {
        "id": "uBzyNbc7_nzZ"
      }
    },
    {
      "cell_type": "code",
      "source": [
        "merge_df.head(2)"
      ],
      "metadata": {
        "id": "QokTSVsl_0X_"
      },
      "execution_count": null,
      "outputs": []
    },
    {
      "cell_type": "code",
      "source": [
        "#creating the graph\n",
        "plt.figure(figsize=(12,8))\n",
        "sns.scatterplot(x=merge_df[\"Sentiment_Subjectivity\"].abs(),y=merge_df[\"Sentiment_Polarity\"].abs())\n",
        "plt.title(\"Categories Relation with the Sentiment_Subjectivity\",fontsize=20)\n",
        "plt.show()"
      ],
      "metadata": {
        "id": "kjTkCLtH_0fn"
      },
      "execution_count": null,
      "outputs": []
    },
    {
      "cell_type": "markdown",
      "source": [
        "##### 1. Why did you pick the specific chart?"
      ],
      "metadata": {
        "id": "yRYn_Dek_1GH"
      }
    },
    {
      "cell_type": "markdown",
      "source": [
        "To check is sentiment subjectivity proportional to sentiment polarity?"
      ],
      "metadata": {
        "id": "x2mOtZjPCWZR"
      }
    },
    {
      "cell_type": "markdown",
      "source": [
        "##### 2. What is/are the insight(s) found from the chart?"
      ],
      "metadata": {
        "id": "ykdV8ezTCWha"
      }
    },
    {
      "cell_type": "markdown",
      "source": [
        "From the above scatter plot it can be concluded that sentiment subjectivity is not always proportional to sentiment polarity but in maximum number of case, shows a proportional behavior, when variance is too high or low"
      ],
      "metadata": {
        "id": "gdhCkDipCWzl"
      }
    },
    {
      "cell_type": "markdown",
      "source": [
        "# Chart-16 Sentiment_Polarity relation with paid and Free App"
      ],
      "metadata": {
        "id": "uoc4u4rT_1cG"
      }
    },
    {
      "cell_type": "code",
      "source": [
        "merge_df.head(2)"
      ],
      "metadata": {
        "id": "r772pMSQ_8-V"
      },
      "execution_count": null,
      "outputs": []
    },
    {
      "cell_type": "code",
      "source": [
        "#creating the graph\n",
        "plt.figure(figsize=(12,6))\n",
        "sns.boxplot(x=merge_df[\"Type\"],y=merge_df[\"Sentiment_Subjectivity\"])\n",
        "plt.title(\"Sentiment_Polarity relation with paid and Free App\")\n",
        "plt.show()"
      ],
      "metadata": {
        "id": "MkO6yeZj_9H9"
      },
      "execution_count": null,
      "outputs": []
    },
    {
      "cell_type": "markdown",
      "source": [
        "##### 1. Why did you pick the specific chart?\n",
        "\n",
        "\n",
        "\n"
      ],
      "metadata": {
        "id": "wfEXy90kB4ji"
      }
    },
    {
      "cell_type": "markdown",
      "source": [
        "For understand the Sentiment_Polarity relation with paid and Free App."
      ],
      "metadata": {
        "id": "WA3ZKrZxCZrK"
      }
    },
    {
      "cell_type": "markdown",
      "source": [
        "##### 2. What is/are the insight(s) found from the chart?"
      ],
      "metadata": {
        "id": "8UgAuLXdCZ1o"
      }
    },
    {
      "cell_type": "markdown",
      "source": [
        "From this plot we can easly seen that paid app have slightly greater Sentiment_Polarity"
      ],
      "metadata": {
        "id": "lObH3pNV_9ya"
      }
    },
    {
      "cell_type": "markdown",
      "source": [
        "# Chart-17 Categories Relation with the Sentiment_Subjectivity"
      ],
      "metadata": {
        "id": "bfLHySIm_-Bv"
      }
    },
    {
      "cell_type": "code",
      "source": [
        "merge_df.head(2)"
      ],
      "metadata": {
        "id": "uquSdVZwAFUB"
      },
      "execution_count": null,
      "outputs": []
    },
    {
      "cell_type": "code",
      "source": [
        "#creating the graph\n",
        "plt.figure(figsize=(8,10))\n",
        "sns.stripplot(x=merge_df[\"Sentiment_Subjectivity\"],y=merge_df[\"Category\"])\n",
        "plt.title(\"Categories Relation with the Sentiment_Subjectivity\",fontsize=20)\n",
        "plt.show()"
      ],
      "metadata": {
        "id": "nQaGBeCSAFcu"
      },
      "execution_count": null,
      "outputs": []
    },
    {
      "cell_type": "markdown",
      "source": [
        "##### 1. Why did you pick the specific chart?"
      ],
      "metadata": {
        "id": "OjixuUk4Cchc"
      }
    },
    {
      "cell_type": "markdown",
      "source": [
        "For show the relation betwwn Categories and Sentiment_Subjectivity"
      ],
      "metadata": {
        "id": "w-qL2Q1ECmrb"
      }
    },
    {
      "cell_type": "markdown",
      "source": [
        "##### 2. What is/are the insight(s) found from the chart?"
      ],
      "metadata": {
        "id": "13jhbgOMCcot"
      }
    },
    {
      "cell_type": "markdown",
      "source": [
        "This plot is showing the relation between Categories and Sentiment_Subjectivity"
      ],
      "metadata": {
        "id": "jJEGghVxAF_Z"
      }
    },
    {
      "cell_type": "markdown",
      "source": [
        "#### Chart-18 - Correlation Heatmap"
      ],
      "metadata": {
        "id": "NC_X3p0fY2L0"
      }
    },
    {
      "cell_type": "code",
      "source": [
        "clean_df.head(2)"
      ],
      "metadata": {
        "id": "zymTFFtkHd2b"
      },
      "execution_count": null,
      "outputs": []
    },
    {
      "cell_type": "code",
      "source": [
        "# Correlation Heatmap visualization code\n",
        "sns.heatmap(clean_df.corr(),annot=True)\n",
        "plt.show()"
      ],
      "metadata": {
        "id": "xyC9zolEZNRQ"
      },
      "execution_count": null,
      "outputs": []
    },
    {
      "cell_type": "code",
      "source": [
        "# MERGED DATA FRAME HEATMAP\n",
        "sns.heatmap(merge_df.corr(),annot=True)\n",
        "plt.show()"
      ],
      "metadata": {
        "id": "6XM54-G8GMEt"
      },
      "execution_count": null,
      "outputs": []
    },
    {
      "cell_type": "markdown",
      "source": [
        "##### 1. Why did you pick the specific chart?"
      ],
      "metadata": {
        "id": "UV0SzAkaZNRQ"
      }
    },
    {
      "cell_type": "markdown",
      "source": [
        "Correlation heatmaps can be used to find potential relationships between variables and to understand the strength of these relationships."
      ],
      "metadata": {
        "id": "DVPuT8LYZNRQ"
      }
    },
    {
      "cell_type": "markdown",
      "source": [
        "##### 2. What is/are the insight(s) found from the chart?"
      ],
      "metadata": {
        "id": "YPEH6qLeZNRQ"
      }
    },
    {
      "cell_type": "markdown",
      "source": [
        "•\tThere is a strong positive correlation between the Reviews and Installs column. This is pretty much obvious. Higher the number of installs, higher is the user base, and higher are the total number of reviews dropped by the users.\n",
        "\n",
        "•\tThe Price is slightly negatively correlated with the Rating, Reviews, and Installs. This means that as the prices of the app increases, the average rating, total number of reviews and installs fall slightly.\n",
        "\n",
        "•\tThe Rating is slightly positively correlated with the Installs and Reviews column. This indicates that as the average user rating increases, the app installs, and number of reviews also increase.\n"
      ],
      "metadata": {
        "id": "bfSqtnDqZNRR"
      }
    },
    {
      "cell_type": "markdown",
      "source": [
        "#### Chart-19 - Pair Plot "
      ],
      "metadata": {
        "id": "q29F0dvdveiT"
      }
    },
    {
      "cell_type": "code",
      "source": [
        "clean_df.head(2)"
      ],
      "metadata": {
        "id": "s6Xv2S0NG9Y1"
      },
      "execution_count": null,
      "outputs": []
    },
    {
      "cell_type": "code",
      "source": [
        "# Pair Plot visualization code\n",
        "sns.pairplot(clean_df)\n",
        "plt.show()"
      ],
      "metadata": {
        "id": "o58-TEIhveiU"
      },
      "execution_count": null,
      "outputs": []
    },
    {
      "cell_type": "markdown",
      "source": [
        "##### 1. Why did you pick the specific chart?"
      ],
      "metadata": {
        "id": "EXh0U9oCveiU"
      }
    },
    {
      "cell_type": "markdown",
      "source": [
        "to understand the best set of features to explain a relationship between two variables or to form the most separated clusters"
      ],
      "metadata": {
        "id": "eMmPjTByveiU"
      }
    },
    {
      "cell_type": "markdown",
      "source": [
        "##### 2. What is/are the insight(s) found from the chart?"
      ],
      "metadata": {
        "id": "22aHeOlLveiV"
      }
    },
    {
      "cell_type": "markdown",
      "source": [
        "•\tMost of the App are Free.\n",
        "\n",
        "•\tMost of the Paid Apps have Rating around 4\n",
        "\n",
        "•\tAs the number of installations increases the number of reviews of the particular app also increases.\n",
        "\n",
        "•\tMost of the Apps are light-weighted.\n"
      ],
      "metadata": {
        "id": "uPQ8RGwHveiV"
      }
    },
    {
      "cell_type": "markdown",
      "source": [
        "## **5. Solution to Business Objective**"
      ],
      "metadata": {
        "id": "JcMwzZxoAimU"
      }
    },
    {
      "cell_type": "markdown",
      "source": [
        "#### What do you suggest the client to achieve Business Objective ? \n",
        "Explain Briefly."
      ],
      "metadata": {
        "id": "8G2x9gOozGDZ"
      }
    },
    {
      "cell_type": "markdown",
      "source": [
        "there are total 33 categories in the dataset From the above plot and we can come to a conclusion that in playstore most of the apps are under Family & Game category and least are of Beauty & Comics Category.we can see that there are total of 33 categories in the dataset. We can come to the conclusion that in the playstore the top categories with the highest installs is-GAME category and least is EVENTS categories.It is indicates that 92.6% apps are free to dowenload and rest 7.4% are paid apps. that most of the apps in the google play store are rated between 3.8 to 4.8. Everyone category has the highest number of apps and unrated category has the lowest number of apps.maximum number of applications present in the dataset are of small size. the \"ART_AND_DESIGN\" category's \"Sketch - Draw & Paint\" has the highest install and Text on Photo-Fonteee has lowest install.that Facebook has the heighest number of reviews and Clash Royale has lowest number of reviews.It is clear from the above mentioned plot that size may impact the number of installations. Bulky applications are less installed by the user.we can come to the conclusion that maximum app install comes under Comunication Genres and followed by Social, Productivity and Tools Genres.After identify total distribution percentage on data, given details of more app supported Android OS version Basically android 4.0 and above version supported app ratio is very heigher and more then 60% apps support only on android 4.0 and above."
      ],
      "metadata": {
        "id": "pASKb0qOza21"
      }
    },
    {
      "cell_type": "markdown",
      "source": [
        "# **Conclusion**"
      ],
      "metadata": {
        "id": "gCX9965dhzqZ"
      }
    },
    {
      "cell_type": "markdown",
      "source": [
        "1) In play store most of the apps are under Family & Game category and least are of Beauty & Comics Category.\n",
        "\n",
        "2) 92.6% apps are Free and 7.4% apps are paid in type.\n",
        "\n",
        "3)Category with the highest number of installs is Game and least number of installs is EVENTS categories.\n",
        "\n",
        "4) Most of the apps in the google play store are rated between 3.8 to 4.8.\n",
        "\n",
        "5) Education category has a highest mean rating of 4.37 and Dating category has lowest 4.01 rating.\n",
        "\n",
        "6) Family, Game and Tools are top three categories having 1943, 1121 and 843 app count.\n",
        "\n",
        "7) Everyone category has the highest number of apps and Unrated category has the lowest number of apps.\n",
        "\n",
        "8) maximum number of applications present in the dataset are of small size.\n",
        "\n",
        "9) Facebook has the highest number of reviews.\n",
        "\n",
        "10) Bulky applications are less installed by the user.\n",
        "\n",
        "11) Comunication Social, Productivity and Tools are top Genres.\n",
        "\n",
        "12) Overall sentiment count of merged dataset in which Positive sentiment count is 64%, Negative  22% and Neutral 14%. \n",
        "\n",
        "13) Maximum number of sentiment subjectivity lies between 0.4 to 0.7.\n",
        "\n",
        "14) It's good to develop a Free type app and having a content rating for Everyone.\n",
        "\n",
        "15) Comics;Creativity and Board;Pretend Play are the highest rated genres and Parenting:Brain Games is the lowest rated genres"
      ],
      "metadata": {
        "id": "Fjb1IsQkh3yE"
      }
    },
    {
      "cell_type": "markdown",
      "source": [
        "### ***Hurrah! You have successfully completed your EDA Capstone Project !!!***"
      ],
      "metadata": {
        "id": "gIfDvo9L0UH2"
      }
    }
  ]
}